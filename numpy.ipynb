{
 "cells": [
  {
   "cell_type": "markdown",
   "metadata": {},
   "source": [
    "### generate small array by repeating a small array"
   ]
  },
  {
   "cell_type": "code",
   "execution_count": 6,
   "metadata": {},
   "outputs": [],
   "source": [
    "import numpy as np"
   ]
  },
  {
   "cell_type": "code",
   "execution_count": 10,
   "metadata": {},
   "outputs": [
    {
     "name": "stdout",
     "output_type": "stream",
     "text": [
      "[[2 4 2 4]\n",
      " [5 6 5 6]\n",
      " [2 4 2 4]\n",
      " [5 6 5 6]]\n"
     ]
    }
   ],
   "source": [
    "sarray = np.array([[2,4],[5,6]])\n",
    "sarray\n",
    "\n",
    "repeat = np.tile(sarray,(2,2))\n",
    "print(repeat)"
   ]
  },
  {
   "cell_type": "markdown",
   "metadata": {},
   "source": [
    "### array generated using element indexes so that elements appear in ascending order"
   ]
  },
  {
   "cell_type": "code",
   "execution_count": 8,
   "metadata": {},
   "outputs": [
    {
     "name": "stdout",
     "output_type": "stream",
     "text": [
      "array with elements indexes in ascending order:\n",
      " [[ 0  1  2  3]\n",
      " [ 4  5  6  7]\n",
      " [ 8  9 10 11]\n",
      " [12 13 14 15]]\n"
     ]
    }
   ],
   "source": [
    "shape= (4,4)\n",
    "#defines shape of array\n",
    "\n",
    "array = np.arange(np.prod(shape)).reshape(shape)\n",
    "#np.prod()=gives total number of elements\n",
    "# here 4x4=16,therefore we have 16elements\n",
    "# np.arange(np.prod())=generates array elements from 0 to np.prod(shape)-1\n",
    "# np.reshape()= convert the generated array to 4x4\n",
    "\n",
    "print(\"array with elements indexes in ascending order:\\n\",array)"
   ]
  },
  {
   "cell_type": "code",
   "execution_count": 9,
   "metadata": {},
   "outputs": [
    {
     "name": "stdout",
     "output_type": "stream",
     "text": [
      "[[ 0  1  2  3  4]\n",
      " [ 5  6  7  8  9]\n",
      " [10 11 12 13 14]\n",
      " [15 16 17 18 19]\n",
      " [20 21 22 23 24]]\n"
     ]
    }
   ],
   "source": [
    "shape=(5,5)\n",
    "totalelements=np.prod(shape)#5x5=25\n",
    "lineararray=np.arange(totalelements)#array9[0,1,2,3,4.....,24]\n",
    "reshapedarray = lineararray.reshape(shape)\n",
    "print(reshapedarray)\n"
   ]
  }
 ],
 "metadata": {
  "kernelspec": {
   "display_name": "Python 3",
   "language": "python",
   "name": "python3"
  },
  "language_info": {
   "codemirror_mode": {
    "name": "ipython",
    "version": 3
   },
   "file_extension": ".py",
   "mimetype": "text/x-python",
   "name": "python",
   "nbconvert_exporter": "python",
   "pygments_lexer": "ipython3",
   "version": "3.12.1"
  }
 },
 "nbformat": 4,
 "nbformat_minor": 2
}
